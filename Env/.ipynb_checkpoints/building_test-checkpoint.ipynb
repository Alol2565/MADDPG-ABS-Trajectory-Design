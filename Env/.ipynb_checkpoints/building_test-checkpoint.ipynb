{
 "cells": [
  {
   "cell_type": "code",
   "execution_count": 1,
   "metadata": {},
   "outputs": [],
   "source": [
    "from building import Building\n",
    "import numpy as np"
   ]
  },
  {
   "cell_type": "code",
   "execution_count": 2,
   "metadata": {},
   "outputs": [],
   "source": [
    "b = Building('1', [0,0,0], 10, 10, 30)"
   ]
  },
  {
   "cell_type": "code",
   "execution_count": 3,
   "metadata": {},
   "outputs": [
    {
     "name": "stderr",
     "output_type": "stream",
     "text": [
      "/home/alol/Documents/UAVs/LTQL-Based-UAV-Trajectory-Design/Env/building.py:63: RuntimeWarning: divide by zero encountered in true_divide\n",
      "  t = (D - (A*p1[0] + B*p1[1] + C*p1[2]))/(A*m[0] + B*m[1] + C*m[2])\n",
      "/home/alol/Documents/UAVs/LTQL-Based-UAV-Trajectory-Design/Env/building.py:64: RuntimeWarning: invalid value encountered in double_scalars\n",
      "  return [p1[0] + t*m[0], p1[1] + t*m[1], p1[2] + t*m[2]]\n",
      "/home/alol/Documents/UAVs/LTQL-Based-UAV-Trajectory-Design/Env/building.py:63: RuntimeWarning: invalid value encountered in true_divide\n",
      "  t = (D - (A*p1[0] + B*p1[1] + C*p1[2]))/(A*m[0] + B*m[1] + C*m[2])\n"
     ]
    },
    {
     "data": {
      "text/plain": [
       "['1', False]"
      ]
     },
     "execution_count": 3,
     "metadata": {},
     "output_type": "execute_result"
    }
   ],
   "source": [
    "point_1 = np.array([-6,-6,0])\n",
    "point_2 = np.array([6,6,0])\n",
    "b.is_blocking(point_1, point_2)"
   ]
  }
 ],
 "metadata": {
  "interpreter": {
   "hash": "d5cc6a4a87dc4b3b25ba4615f4628ea484928f9572324af8a1d883d19e1da40c"
  },
  "kernelspec": {
   "display_name": "Python 3 (ipykernel)",
   "language": "python",
   "name": "python3"
  },
  "language_info": {
   "codemirror_mode": {
    "name": "ipython",
    "version": 3
   },
   "file_extension": ".py",
   "mimetype": "text/x-python",
   "name": "python",
   "nbconvert_exporter": "python",
   "pygments_lexer": "ipython3",
   "version": "3.9.7"
  }
 },
 "nbformat": 4,
 "nbformat_minor": 2
}
